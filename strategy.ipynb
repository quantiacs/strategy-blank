{
 "cells": [
  {
   "cell_type": "markdown",
   "metadata": {},
   "source": [
    "# Blank Template for Developing"
   ]
  },
  {
   "cell_type": "code",
   "execution_count": null,
   "metadata": {},
   "outputs": [],
   "source": [
    "%%javascript\n",
    "window.IPython && (IPython.OutputArea.prototype._should_scroll = function(lines) { return false; })\n",
    "// disable widget scrolling"
   ]
  },
  {
   "cell_type": "code",
   "execution_count": null,
   "metadata": {},
   "outputs": [],
   "source": [
    "# Multi-Pass implementation of a trivial crossover system using the Quantiacs built-in backtester.\n",
    "\n",
    "import xarray as xr           # xarray for data manipulation\n",
    "import qnt.data as qndata     # functions for loading data\n",
    "import qnt.backtester as qnbt # built-in backtester\n",
    "import qnt.ta as qnta         # technical analysis library\n",
    "\n",
    "\n",
    "\n",
    "def load_data(period):\n",
    "    \"\"\"This function loads the data. In the Documentation you will find more details\n",
    "    on the different datasets you can load. You can inspect the source code in your\n",
    "    root folder.\n",
    "    \"\"\"\n",
    "    \n",
    "    # loads cryptocurrency data for the Q17 crypto contest:\n",
    "    return qndata.cryptodaily_load_data(tail = period, dims = (\"time\", \"field\", \"asset\"))\n",
    "    # loads futures data for the Q15 futures contest:\n",
    "    #return qndata.futures.load_data(tail = period, dims = (\"time\", \"field\", \"asset\"))\n",
    "\n",
    "\n",
    "\n",
    "def strategy(data):\n",
    "    \"\"\"This function contains your strategy. It must returns allocation\n",
    "    weights for all assets at a FIXED point in time (note isel(time=-1)).\n",
    "    \"\"\"\n",
    "    \n",
    "    close = data.sel(field=\"close\")\n",
    "    \n",
    "    ma_slow = qnta.sma(close, 200).isel(time=-1)\n",
    "    ma_fast = qnta.sma(close, 20).isel(time=-1)\n",
    "    \n",
    "    # go long on the assets when the fast moving average of the price\n",
    "    # is larger than the slow one:\n",
    "    weights = xr.where(ma_slow < ma_fast, 1, -1) # 1 - long position (buy), -1 - short position (sell)\n",
    "    \n",
    "    # this field tags cryptocurrencies which, at a given point in time,\n",
    "    # are among the 10 ones with the largest market capitalization:\n",
    "    is_liquid = data.sel(field=\"is_liquid\")\n",
    "    \n",
    "    weights = weights * is_liquid\n",
    "    weights = weights / 10.0\n",
    "\n",
    "    return weights\n",
    "\n",
    "\n",
    "\n",
    "# lookback_period is expressed in calendar days and it expresses the length\n",
    "# of the rolling window used by the backtester. It must be large enough\n",
    "# to include all indicators for your strategy (expressed in trading days).\n",
    "# The smaller the window, the more efficient the evaluation.\n",
    "\n",
    "weights = qnbt.backtest(\n",
    "    competition_type = \"crypto_daily_long_short\", # \"futures\"\n",
    "    load_data = load_data,\n",
    "    lookback_period = 365*4,\n",
    "    start_date = \"2014-01-01\",\n",
    "    strategy=strategy\n",
    ")"
   ]
  },
  {
   "cell_type": "markdown",
   "metadata": {},
   "source": [
    "For improving speed you can implement your strategy using a **Single-Pass approach**. Your algorithm must return arrays for the allocation weights. In this implementation the full time series is accessible to your algo at any point in time, so you should make sure that no forward looking is taking place and your algo does not use future information for predicting the past. \n",
    "\n",
    "**IMPORTANT: Any** implementation in your Notebook (Single-Pass or Multi-Pass) will be processed **after submission on our servers** using a multi-pass approach in order to prevent forward looking. If the **Sharpe ratio** of your submission does not match your expectations from your Notebook research, please review your implementation: most likely some forward looking is taking place, for example by computing some global mean value which is then used for taking trading decisions."
   ]
  },
  {
   "cell_type": "markdown",
   "metadata": {},
   "source": [
    "```python\n",
    "# Single-pass implementation (for prototyping)\n",
    "import xarray as xr\n",
    "\n",
    "import qnt.data as qndata\n",
    "import qnt.output as qnout\n",
    "import qnt.ta as qnta\n",
    "import qnt.stats as qns\n",
    "\n",
    "# load data:\n",
    "data = qndata.cryptodaily_load_data(min_date=\"2013-05-01\")\n",
    "\n",
    "# calculate weights:\n",
    "close = data.sel(field=\"close\")\n",
    "ma_slow = qnta.sma(close, 200)\n",
    "ma_fast = qnta.sma(close, 20)\n",
    "weights = xr.where(ma_fast > ma_slow, 1, -1)\n",
    "\n",
    "# liquidity filter:\n",
    "is_liquid = data.sel(field=\"is_liquid\")\n",
    "\n",
    "# set weights:\n",
    "weights = weights * is_liquid\n",
    "weights = weights / 10.0\n",
    "\n",
    "# clean weights taking corner cases into account:\n",
    "weights = qnout.clean(weights, data, \"crypto_daily_long_short\")\n",
    "\n",
    "# check before submission:\n",
    "qnout.check(weights, data, \"crypto_daily_long_short\")\n",
    "\n",
    "# write results:\n",
    "qnout.write(weights)\n",
    "\n",
    "# calculate statistics for checking:\n",
    "stats = qns.calc_stat(data, weights.sel(time=slice(\"2014-01-01\",None)))\n",
    "stats.to_pandas().tail()\n",
    "```"
   ]
  }
 ],
 "metadata": {
  "kernelspec": {
   "display_name": "Python 3",
   "language": "python",
   "name": "python3"
  },
  "language_info": {
   "codemirror_mode": {
    "name": "ipython",
    "version": 3
   },
   "file_extension": ".py",
   "mimetype": "text/x-python",
   "name": "python",
   "nbconvert_exporter": "python",
   "pygments_lexer": "ipython3",
   "version": "3.7.10"
  }
 },
 "nbformat": 4,
 "nbformat_minor": 4
}
